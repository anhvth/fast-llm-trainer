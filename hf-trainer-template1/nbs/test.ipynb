{
 "cells": [
  {
   "cell_type": "code",
   "execution_count": 1,
   "metadata": {},
   "outputs": [],
   "source": [
    "# cd .."
   ]
  },
  {
   "cell_type": "code",
   "execution_count": null,
   "metadata": {},
   "outputs": [],
   "source": [
    "import os\n",
    "\n",
    "os.environ[\"JUPYTER\"] = \"True\"\n",
    "from hftrainer.trainer.base import BaseTrainer\n",
    "from speedy import *\n",
    "from datasets import load_dataset\n",
    "from transformers import PreTrainedTokenizer\n",
    "from datasets import Dataset\n",
    "\n",
    "\n",
    "class CustomTrainer(BaseTrainer):\n",
    "    def load_datasets(self):\n",
    "        logger.debug(\"Loading datasets from provided path.\")\n",
    "\n",
    "        def to_msgs(item):\n",
    "            return [\n",
    "                {\"role\": \"user\", \"content\": item[\"instruction\"] + \"\\n\" + item[\"input\"]},\n",
    "                {\"role\": \"assistant\", \"content\": item[\"output\"]},\n",
    "            ]\n",
    "\n",
    "        def preprocess(item, tokenizer: \"PreTrainedTokenizer\"):\n",
    "            try:\n",
    "                text = tokenizer.apply_chat_template(\n",
    "                    to_msgs(item), return_tensors=\"pt\", tokenize=False\n",
    "                )\n",
    "                ids = tokenizer(\n",
    "                    text,\n",
    "                    padding=\"max_length\",\n",
    "                    truncation=True,\n",
    "                    max_length=self.training_args.model_max_length,\n",
    "                    return_tensors=\"pt\",\n",
    "                )\n",
    "                return {\n",
    "                    \"input_ids\": ids.input_ids.flatten(),\n",
    "                    \"attention_mask\": ids.attention_mask.flatten(),\n",
    "                    \"labels\": ids.input_ids.flatten(),\n",
    "                }\n",
    "            except Exception as e:\n",
    "                logger.error(f\"Error in preprocessing: {e}\")\n",
    "                raise\n",
    "\n",
    "        path = self.data_args.data_path\n",
    "        logger.debug(f\"Loading data from path: {path}\")\n",
    "        data = load_by_ext(path)[:1000]\n",
    "        ds = Dataset.from_list(data)\n",
    "\n",
    "        def map_fn(item):\n",
    "            return preprocess(item, self.tokenizer)\n",
    "\n",
    "        logger.debug(\"Mapping dataset with preprocessing function.\")\n",
    "        ds = ds.map(map_fn)\n",
    "        dataset = ds.train_test_split(test_size=0.1)\n",
    "        logger.debug(\"Dataset loaded and split into train and test sets.\")\n",
    "        return dataset\n",
    "\n",
    "\n",
    "logger.debug(\"Starting CustomTrainer with provided configuration.\")\n",
    "trainer = CustomTrainer(\"../config/template_args_macos.yaml\", verbose=False)\n",
    "trainer.train()\n",
    "logger.debug(\"Training completed successfully.\")"
   ]
  },
  {
   "cell_type": "code",
   "execution_count": 5,
   "metadata": {},
   "outputs": [],
   "source": [
    "val_loader = trainer.get_eval_dataloader()"
   ]
  },
  {
   "cell_type": "code",
   "execution_count": 25,
   "metadata": {},
   "outputs": [
    {
     "name": "stderr",
     "output_type": "stream",
     "text": [
      "Setting `pad_token_id` to `eos_token_id`:151643 for open-end generation.\n"
     ]
    },
    {
     "name": "stdout",
     "output_type": "stream",
     "text": [
      "<|im_start|>system\n",
      "You are a helpful assistant<|im_end|>\n",
      "<|im_start|>user\n",
      "fuck you<|im_end|>\n",
      "<|im_start|>assistant\n",
      "Fucking you.<|im_end|>\n",
      "<|endoftext|>\n"
     ]
    }
   ],
   "source": [
    "from transformers import TextStreamer\n",
    "model = trainer.model.eval()\n",
    "tokenizer = trainer.tokenizer\n",
    "with torch.no_grad():\n",
    "    data = [{\"role\": \"user\", \"content\": \"fuck you\",}]\n",
    "    text = tokenizer.apply_chat_template(data, tokenize=False, add_generation_prompt=True)\n",
    "    ids = tokenizer(text, return_tensors='pt').to(model.device)\n",
    "    gen = model.generate(**ids, streamer=TextStreamer(tokenizer))"
   ]
  },
  {
   "cell_type": "code",
   "execution_count": 13,
   "metadata": {},
   "outputs": [
    {
     "data": {
      "text/plain": [
       "{'input_ids': tensor([[151644,   8948,    198,   2610,    525,    264,  10950,  17847, 151645,\n",
       "            198, 151644,    872,    198,   3838,    374,    279,   6722,    315,\n",
       "           9625,     30, 151645,    198, 151644,  77091,    198]]), 'attention_mask': tensor([[1, 1, 1, 1, 1, 1, 1, 1, 1, 1, 1, 1, 1, 1, 1, 1, 1, 1, 1, 1, 1, 1, 1, 1,\n",
       "         1]])}"
      ]
     },
     "execution_count": 13,
     "metadata": {},
     "output_type": "execute_result"
    }
   ],
   "source": []
  },
  {
   "cell_type": "code",
   "execution_count": 9,
   "metadata": {},
   "outputs": [
    {
     "data": {
      "text/plain": [
       "tensor([[151644,   8948,    198,   2610,    525,    264,  10950,  17847, 151645,\n",
       "            198, 151644,    872,    198,  23227,    551,    279,   2701,   4244,\n",
       "           1119,    264,  22414,  11652,    624,     83,    541,   2272,    279,\n",
       "            304, 151645,    198, 151644,  77091,    198,  25749,    304,    279,\n",
       "          16217,    374,   2480,    315,  45440,     13, 151645,    198, 151643,\n",
       "         151643, 151643, 151643, 151643, 151643, 151643, 151643, 151643, 151643,\n",
       "         151643, 151643, 151643, 151643, 151643, 151643, 151643, 151643, 151643,\n",
       "         151643, 151643, 151643, 151643, 151643, 151643, 151643, 151643, 151643,\n",
       "         151643, 151643, 151643, 151643, 151643, 151643, 151643, 151643, 151643,\n",
       "         151643, 151643, 151643, 151643, 151643, 151643, 151643, 151643, 151643,\n",
       "         151643, 151643, 151643, 151643, 151643, 151643, 151643, 151643, 151643,\n",
       "         151643, 151643, 151643, 151643, 151643, 151643, 151643, 151643, 151643,\n",
       "         151643, 151643, 151643, 151643, 151643, 151643, 151643, 151643, 151643,\n",
       "         151643, 151643, 151643, 151643, 151643, 151643, 151643, 151643, 151643,\n",
       "         151643, 151643, 151643, 151643, 151643, 151643, 151643, 151643, 151643,\n",
       "         151643, 151643, 151643, 151643, 151643, 151643, 151643, 151643, 151643,\n",
       "         151643, 151643, 151643, 151643, 151643, 151643, 151643, 151643, 151643,\n",
       "         151643, 151643, 151643, 151643, 151643, 151643, 151643, 151643, 151643,\n",
       "         151643, 151643, 151643, 151643, 151643, 151643, 151643, 151643, 151643,\n",
       "         151643, 151643, 151643, 151643, 151643, 151643, 151643, 151643, 151643,\n",
       "         151643, 151643, 151643, 151643, 151643, 151643, 151643, 151643, 151643,\n",
       "         151643, 151643, 151643, 151643, 151643, 151643, 151643, 151643, 151643,\n",
       "         151643, 151643, 151643, 151643, 151643, 151643, 151643, 151643, 151643,\n",
       "         151643, 151643, 151643, 151643, 151643, 151643, 151643, 151643, 151643,\n",
       "         151643, 151643, 151643, 151643, 151643, 151643, 151643, 151643, 151643,\n",
       "         151643, 151643, 151643, 151643, 151643, 151643, 151643, 151643, 151643,\n",
       "         151643, 151643, 151643, 151643, 151643, 151643, 151643, 151643, 151643,\n",
       "         151643, 151643, 151643, 151643, 151643, 151643, 151643, 151643, 151643,\n",
       "         151643, 151643, 151643, 151643, 151643, 151643, 151643, 151643, 151643,\n",
       "         151643, 151643, 151643, 151643, 151643, 151643, 151643, 151643, 151643,\n",
       "         151643, 151643, 151643, 151643, 151643, 151643, 151643, 151643, 151643,\n",
       "         151643, 151643, 151643, 151643, 151643, 151643, 151643, 151643, 151643,\n",
       "         151643, 151643, 151643, 151643, 151643, 151643, 151643, 151643, 151643,\n",
       "         151643, 151643, 151643, 151643, 151643, 151643, 151643, 151643, 151643,\n",
       "         151643, 151643, 151643, 151643, 151643, 151643, 151643, 151643, 151643,\n",
       "         151643, 151643, 151643, 151643, 151643, 151643, 151643, 151643, 151643,\n",
       "         151643, 151643, 151643, 151643, 151643, 151643, 151643, 151643, 151643,\n",
       "         151643, 151643, 151643, 151643, 151643, 151643, 151643, 151643, 151643,\n",
       "         151643, 151643, 151643, 151643, 151643, 151643, 151643, 151643, 151643,\n",
       "         151643, 151643, 151643, 151643, 151643, 151643, 151643, 151643, 151643,\n",
       "         151643, 151643, 151643, 151643, 151643, 151643, 151643, 151643, 151643,\n",
       "         151643, 151643, 151643, 151643, 151643, 151643, 151643, 151643, 151643,\n",
       "         151643, 151643, 151643, 151643, 151643, 151643, 151643, 151643, 151643,\n",
       "         151643, 151643, 151643, 151643, 151643, 151643, 151643, 151643, 151643,\n",
       "         151643, 151643, 151643, 151643, 151643, 151643, 151643, 151643, 151643,\n",
       "         151643, 151643, 151643, 151643, 151643, 151643, 151643, 151643, 151643,\n",
       "         151643, 151643, 151643, 151643, 151643, 151643, 151643, 151643, 151643,\n",
       "         151643, 151643, 151643, 151643, 151643, 151643, 151643, 151643, 151643,\n",
       "         151643, 151643, 151643, 151643, 151643, 151643, 151643, 151643, 151643,\n",
       "         151643, 151643, 151643, 151643, 151643, 151643, 151643, 151643, 151643,\n",
       "         151643, 151643, 151643, 151643, 151643, 151643, 151643, 151643, 151643,\n",
       "         151643, 151643, 151643, 151643, 151643, 151643, 151643, 151643, 151643,\n",
       "         151643, 151643, 151643, 151643, 151643, 151643, 151643, 151643, 151643,\n",
       "         151643, 151643, 151643, 151643, 151643, 151643, 151643, 151643, 151643,\n",
       "         151643, 151643, 151643, 151643, 151643, 151643, 151643, 151643, 151643,\n",
       "         151643, 151643, 151643, 151643, 151643, 151643, 151643, 151643, 151643,\n",
       "         151643, 151643, 151643, 151643, 151643, 151643, 151643, 151643]],\n",
       "       device='mps:0')"
      ]
     },
     "execution_count": 9,
     "metadata": {},
     "output_type": "execute_result"
    }
   ],
   "source": []
  },
  {
   "cell_type": "code",
   "execution_count": null,
   "metadata": {},
   "outputs": [],
   "source": []
  }
 ],
 "metadata": {
  "kernelspec": {
   "display_name": "hf-trainer",
   "language": "python",
   "name": "python3"
  },
  "language_info": {
   "codemirror_mode": {
    "name": "ipython",
    "version": 3
   },
   "file_extension": ".py",
   "mimetype": "text/x-python",
   "name": "python",
   "nbconvert_exporter": "python",
   "pygments_lexer": "ipython3",
   "version": "3.12.0"
  }
 },
 "nbformat": 4,
 "nbformat_minor": 2
}
